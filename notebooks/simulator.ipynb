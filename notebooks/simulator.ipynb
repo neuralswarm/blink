{
 "cells": [
  {
   "cell_type": "markdown",
   "metadata": {
    "slideshow": {
     "slide_type": "skip"
    }
   },
   "source": [
    "# Preamble"
   ]
  },
  {
   "cell_type": "code",
   "execution_count": null,
   "metadata": {
    "ExecuteTime": {
     "end_time": "2019-10-30T15:00:31.830422Z",
     "start_time": "2019-10-30T15:00:31.363707Z"
    },
    "slideshow": {
     "slide_type": "skip"
    }
   },
   "outputs": [],
   "source": [
    "import ipywidgets as widgets\n",
    "import matplotlib.pyplot as plt\n",
    "import numpy as np\n",
    "import pandas as pd\n",
    "import seaborn as sns\n",
    "\n",
    "import datetime\n",
    "import gmaps\n",
    "import keyring\n",
    "import math\n",
    "import pickle\n",
    "import pyproj\n",
    "import random\n",
    "import requests\n",
    "import simpy\n",
    "import unittest\n",
    "\n",
    "from IPython import display\n",
    "from pandas.plotting import register_matplotlib_converters\n",
    "from shapely import geometry\n",
    "\n",
    "register_matplotlib_converters()    \n",
    "sns.set(style='darkgrid')\n",
    "\n",
    "layout = {'width': '800px',\n",
    "          'height': '800px',\n",
    "          'border': '1px solid black',\n",
    "          'padding': '1px'}"
   ]
  },
  {
   "cell_type": "code",
   "execution_count": null,
   "metadata": {
    "ExecuteTime": {
     "end_time": "2019-10-30T15:03:09.375269Z",
     "start_time": "2019-10-30T15:03:09.331505Z"
    },
    "slideshow": {
     "slide_type": "skip"
    }
   },
   "outputs": [],
   "source": [
    "BING_MAPS_API_KEY = keyring.get_password('Microsoft', 'Bing Maps API')\n",
    "GOOGLE_MAPS_API_KEY = keyring.get_password('Google', 'Maps Platform')\n",
    "MAPBOX_MAPS_API_KEY = keyring.get_password('Mapbox', 'Mapbox API')\n",
    "\n",
    "gmaps.configure(api_key=GOOGLE_MAPS_API_KEY)"
   ]
  },
  {
   "cell_type": "code",
   "execution_count": null,
   "metadata": {
    "ExecuteTime": {
     "end_time": "2019-10-30T17:25:24.229822Z",
     "start_time": "2019-10-30T17:25:24.181088Z"
    },
    "slideshow": {
     "slide_type": "skip"
    }
   },
   "outputs": [],
   "source": [
    "with open('../data/bing_geojsons_restrictions.pickle', 'rb') as f:\n",
    "    bing_geojsons = pickle.load(f)\n",
    "    \n",
    "with open('../data/bing_geojsons_no_restrictions.pickle', 'rb') as f:\n",
    "    bing_geojsons_no_restrictions = pickle.load(f)    "
   ]
  },
  {
   "cell_type": "markdown",
   "metadata": {
    "slideshow": {
     "slide_type": "skip"
    }
   },
   "source": [
    "Latitude/longitude of Melbourne Emporium:"
   ]
  },
  {
   "cell_type": "code",
   "execution_count": null,
   "metadata": {
    "ExecuteTime": {
     "end_time": "2019-10-30T15:00:33.157039Z",
     "start_time": "2019-10-30T15:00:33.151944Z"
    }
   },
   "outputs": [],
   "source": [
    "emporium_latitude = -37.8124448\n",
    "emporium_longitude = 144.961366111\n",
    "\n",
    "emporium = (emporium_latitude, emporium_longitude)"
   ]
  },
  {
   "cell_type": "markdown",
   "metadata": {
    "slideshow": {
     "slide_type": "slide"
    }
   },
   "source": [
    "# Objectives"
   ]
  },
  {
   "cell_type": "markdown",
   "metadata": {},
   "source": [
    "- Determine a suitable radius around specified locations (e.g. Emporium Melbourne) for time-constrained package delivery.\n",
    "\n",
    "\n",
    "- In other words, given the location of a store, which people can order from the particular store."
   ]
  },
  {
   "cell_type": "markdown",
   "metadata": {},
   "source": [
    "# Scope of Work"
   ]
  },
  {
   "cell_type": "markdown",
   "metadata": {},
   "source": [
    "- Monte Carlo simulator to determine the distribution of package delivery times for points of different distances from the origin.\n",
    "\n",
    "\n",
    "- Support for aggregating traffic over different times and days so an accurate representation can be obtained.\n",
    "\n",
    "\n",
    "- Point-to-point ETAs should be retrieved using the Google Maps Routing API or any other suitable alternative."
   ]
  },
  {
   "cell_type": "markdown",
   "metadata": {},
   "source": [
    "# Task 1: Isochrone"
   ]
  },
  {
   "cell_type": "markdown",
   "metadata": {},
   "source": [
    "![Isochrone](https://www.dugwood.com/isochrone-screenshot.png?1562330360)\n",
    "\n",
    "- An Isochrone is a line drawn on a map connecting points at which something occurs at the same time.\n",
    "\n",
    "\n",
    "- Create an Isochrone that is reachable within 1-hour by electric scooter from Melbourne Emporium.\n",
    "\n",
    "\n",
    "- For an Isochrone to be representative, it should use traffic data from the operational hours of the service (as opposed to all times of the day).\n",
    "\n",
    "\n",
    "- Accurate Isochrone by generating an Isochrone for every hour that Emporium is open (10am - 7pm) and aggregating them.\n",
    "\n",
    "\n",
    "- Find best case, average case, worst case.\n",
    "\n",
    "\n",
    "- Since Isochrones are oddly shaped, we can summarise the size of the Isochrone by its average radius."
   ]
  },
  {
   "cell_type": "markdown",
   "metadata": {
    "heading_collapsed": true,
    "slideshow": {
     "slide_type": "skip"
    }
   },
   "source": [
    "## Bing (Skip)"
   ]
  },
  {
   "cell_type": "code",
   "execution_count": null,
   "metadata": {
    "ExecuteTime": {
     "end_time": "2019-10-30T15:00:37.032780Z",
     "start_time": "2019-10-30T15:00:37.023791Z"
    },
    "hidden": true
   },
   "outputs": [],
   "source": [
    "def bing_isochrone(origin, departure_time=0, travel_time=60,\n",
    "                   route_restrictions=True):\n",
    "    \"\"\"Find the Bing Isochrone given an origin, and departure and travel times.\n",
    "\n",
    "    Note: using synchronous GET request against recommendation of documentation\n",
    "    for Isochrone travel times greater than 30 minutes. Asynchronous GET\n",
    "    requests seem to be buggy.\n",
    "\n",
    "    Args:\n",
    "      origin: Latitude/longitude of origin.\n",
    "      departure_time: Desired time of departure in seconds.\n",
    "      travel_time: Travel time used to define the Isochrone contour (in\n",
    "                   minutes).\n",
    "      route_restrictions: Boolean. If true will avoid highways and ferries.\n",
    "\n",
    "    Returns:\n",
    "      Bing Isochrone.\n",
    "    \"\"\"\n",
    "    print('BING LIVE REQUEST')\n",
    "    departure_datetime = datetime.datetime.fromtimestamp(departure_time)\n",
    "    \n",
    "    api_endpoint = 'http://dev.virtualearth.net/REST/v1/Routes/Isochrones'\n",
    "    payload = {'waypoint': f'{origin[0]},{origin[1]}',\n",
    "               'maxtime': travel_time,\n",
    "               'timeUnit': 'minute',\n",
    "               'travelMode': 'driving',\n",
    "               'optimize': 'timeWithTraffic',\n",
    "               'key': BING_MAPS_API_KEY}\n",
    "\n",
    "    if departure_datetime:\n",
    "        payload['dateTime'] = departure_datetime\n",
    "        \n",
    "    if route_restrictions:\n",
    "        payload['avoid'] = 'highways,ferry'\n",
    "        \n",
    "    response = requests.get(api_endpoint, params=payload)\n",
    "    \n",
    "    # Convert response to GeoJSON\n",
    "    coordinates = response.json()['resourceSets'][0]['resources'][0]['polygons'][0]['coordinates'][0]\n",
    "    coordinates = [(long, lat) for (lat, long) in coordinates]  # GeoJSON expects long/lat.\n",
    "    polygon = {'type': 'Polygon', 'coordinates': [coordinates]}\n",
    "    isochrone = {'type': 'FeatureCollection',\n",
    "                 'features': [{'properties': {'fillOpacity': 0.33,\n",
    "                                              'color': '#bf4040',\n",
    "                                              'fill': '#bf4040',\n",
    "                                              'fillColor': '#bf4040',\n",
    "                                              'contour': 60,\n",
    "                                              'opacity': 0.33,\n",
    "                                              'fill-opacity': 0.33},\n",
    "                               'type': 'Feature', \n",
    "                               'geometry': polygon}]}\n",
    "    \n",
    "    return isochrone"
   ]
  },
  {
   "cell_type": "markdown",
   "metadata": {
    "hidden": true
   },
   "source": [
    "Get Bing Isochrones every hour between midnight on 1 October 2019 and midnight on 9 October 2019:"
   ]
  },
  {
   "cell_type": "code",
   "execution_count": null,
   "metadata": {
    "ExecuteTime": {
     "end_time": "2019-10-30T16:56:32.002103Z",
     "start_time": "2019-10-30T16:56:32.000210Z"
    },
    "hidden": true
   },
   "outputs": [],
   "source": [
    "# dates = pd.date_range(start='2019-10-01 00:00:00', end='2019-10-09 00:00', freq='H')\n",
    "# bing_geojsons = {str(date): bing_isochrone(emporium, date.timestamp()) for date in dates}\n",
    "\n",
    "# with open('../data/bing_geojsons.pickle', 'wb') as f:\n",
    "#     pickle.dump(bing_geojsons, f, protocol=pickle.HIGHEST_PROTOCOL)"
   ]
  },
  {
   "cell_type": "markdown",
   "metadata": {
    "heading_collapsed": true,
    "slideshow": {
     "slide_type": "skip"
    }
   },
   "source": [
    "## Mapbox (Skip)"
   ]
  },
  {
   "cell_type": "code",
   "execution_count": null,
   "metadata": {
    "ExecuteTime": {
     "end_time": "2019-10-30T15:00:40.587114Z",
     "start_time": "2019-10-30T15:00:40.583570Z"
    },
    "hidden": true
   },
   "outputs": [],
   "source": [
    "def mapbox_isochrone(origin, travel_time=60):\n",
    "    \"\"\"Find the MapBox Isochrone given an origin and a travel time.\n",
    "    \n",
    "    Note: MapBox expects long/lat.\n",
    "\n",
    "    Args:\n",
    "      origin: Latitude/longitude of origin.\n",
    "      travel_time: Travel time used to define the Isochrone contour (in\n",
    "                   minutes).\n",
    "\n",
    "    Returns:\n",
    "      Mapbox Isochrone.\n",
    "    \"\"\"\n",
    "    print('MAPBOX LIVE REQUEST')\n",
    "    api_endpoint = f'https://api.mapbox.com/isochrone/v1/mapbox/driving/{origin[1]},{origin[0]}'\n",
    "    payload = {'contours_minutes': travel_time,\n",
    "               'polygons': 'true',\n",
    "               'access_token': MAPBOX_MAPS_API_KEY}\n",
    "\n",
    "    response = requests.get(api_endpoint, params=payload)\n",
    "    return response.json()"
   ]
  },
  {
   "cell_type": "markdown",
   "metadata": {
    "heading_collapsed": true
   },
   "source": [
    "## Helper Functions (Skip)"
   ]
  },
  {
   "cell_type": "code",
   "execution_count": null,
   "metadata": {
    "ExecuteTime": {
     "end_time": "2019-10-30T15:00:42.999986Z",
     "start_time": "2019-10-30T15:00:42.988456Z"
    },
    "hidden": true
   },
   "outputs": [],
   "source": [
    "def geocode_address(address):\n",
    "    print('GOOGLE GEOCODE LIVE REQUEST')\n",
    "    api_endpoint = 'https://maps.googleapis.com/maps/api/geocode/json'\n",
    "    payload = {'address': address,\n",
    "               'key': GOOGLE_MAPS_API_KEY}\n",
    "    \n",
    "    response = requests.get(api_endpoint, params=payload)\n",
    "    coords = response.json()['results'][0]['geometry']['location']\n",
    "    return (coords['lat'], coords['lng'])"
   ]
  },
  {
   "cell_type": "code",
   "execution_count": null,
   "metadata": {
    "ExecuteTime": {
     "end_time": "2019-10-30T15:11:00.657696Z",
     "start_time": "2019-10-30T15:11:00.651147Z"
    },
    "hidden": true
   },
   "outputs": [],
   "source": [
    "def generate_layers(origin, origin_name, geojsons_dict):\n",
    "    origin_marker = gmaps.Marker(origin, info_box_content=origin_name)\n",
    "    origin_marker_layer = gmaps.drawing_layer(features=[origin_marker])\n",
    "\n",
    "    layers = {'origin': origin_marker_layer}\n",
    "\n",
    "    colours = ['#ff0000', '#0000ff', '#00ff00']\n",
    "    \n",
    "    for index, (name, geojson) in enumerate(geojsons_dict.items()):\n",
    "        layers[name] = gmaps.geojson_layer(geojson,\n",
    "                                           fill_color='#000000',\n",
    "                                           stroke_color=colours[index%len(colours)],\n",
    "                                           fill_opacity=0.15)\n",
    "\n",
    "    return layers"
   ]
  },
  {
   "cell_type": "code",
   "execution_count": null,
   "metadata": {
    "ExecuteTime": {
     "end_time": "2019-10-30T15:00:44.041205Z",
     "start_time": "2019-10-30T15:00:44.028159Z"
    },
    "hidden": true
   },
   "outputs": [],
   "source": [
    "def random_coordinate(origin, r_metres=1000):\n",
    "    \"\"\"Samples a coordinate uniformly randomly given an origin and radius.\n",
    "    \n",
    "    The points are taken to be on a surface of a sphere. See:\n",
    "    https://gis.stackexchange.com/questions/25877/generating-random-locations-nearby\n",
    "    \n",
    "    Also, the radius is converted from metres to degrees are the equator:\n",
    "    https://en.wikipedia.org/wiki/Decimal_degrees\n",
    "\n",
    "    Args:\n",
    "      origin: Latitude, longitude pair.\n",
    "      r_metres: Radius (in metres).\n",
    "\n",
    "    Returns:\n",
    "      Random latitude/longitude coordinate as a tuple.\n",
    "    \"\"\"\n",
    "    r_degrees = r_metres / 111319.9\n",
    "    \n",
    "    x0 = origin[1]\n",
    "    y0 = origin[0]\n",
    "\n",
    "    u = random.uniform(0, 1)\n",
    "    v = random.uniform(0, 1) \n",
    "\n",
    "    w = r_degrees * math.sqrt(u)\n",
    "    t = 2 * math.pi * v\n",
    "    x = w * math.cos(t)\n",
    "    y = w * math.sin(t)\n",
    "    \n",
    "    # Adjust x-coordinate for shrinking of east-west distances with latitude.\n",
    "    x_corrected = x / math.cos(y0)\n",
    "\n",
    "    return (y + y0), (x_corrected + x0)\n",
    "\n",
    "\n",
    "# coordinates = [random_coordinate(emporium, 40000)\n",
    "#                for i in range(100)]\n",
    "\n",
    "# coordinates = [(long, lat) for (lat, long) in coordinates]  # swap lat/lon\n",
    "\n",
    "# fig, ax = plt.subplots(figsize=(16, 8))\n",
    "# ax = sns.scatterplot(*zip(*coordinates))\n",
    "# plt.scatter(emporium_longitude, emporium_latitude, color='red');\n",
    "# ax.set_title('Uniform Distribution of 100 points 40 km from Melbourne Emporium', fontsize=14)\n",
    "# ax.set_xlabel('Longitude',fontsize=14)\n",
    "# ax.set_ylabel('Latitude',fontsize=14);"
   ]
  },
  {
   "cell_type": "code",
   "execution_count": null,
   "metadata": {
    "ExecuteTime": {
     "end_time": "2019-10-30T15:00:46.455088Z",
     "start_time": "2019-10-30T15:00:46.451350Z"
    },
    "hidden": true
   },
   "outputs": [],
   "source": [
    "def random_datetime(start, end):\n",
    "    \"\"\"Generate a uniformly random datetime between start and end.\n",
    "    \n",
    "    Code from: https://stackoverflow.com/questions/553303/generate-a-random-date-between-two-other-dates\n",
    "\n",
    "    Args:\n",
    "      start: start datetime.\n",
    "      end: end datetime.\n",
    "\n",
    "    Returns:\n",
    "      Random datetime.\n",
    "    \"\"\"\n",
    "    timedelta_seconds = random.randint(0, int((end - start).total_seconds()))\n",
    "    return start + datetime.timedelta(seconds=timedelta_seconds)\n",
    "\n",
    "# start = pd.to_datetime('2019-01-01 00:00:00').to_pydatetime()\n",
    "# end = pd.to_datetime('2019-01-08 00:00:00').to_pydatetime()\n",
    "\n",
    "# print(random_datetime(start, end))"
   ]
  },
  {
   "cell_type": "markdown",
   "metadata": {},
   "source": [
    "## Isochrone Radius (Detail)"
   ]
  },
  {
   "cell_type": "markdown",
   "metadata": {},
   "source": [
    "We are faced with the problem of calculating an estimate for the average radius of an irregular boundary (Isochrone) on the surface of a sphere.\n",
    "\n",
    "Maps are 2D projections of the Earth's 3D surface, which distort features and distances when \"flattening\" the surface to form a map. We need to account for the curvature of the Earth over the isochrone when calculating the radius.\n",
    "\n",
    "Most images in Mapping APIs use the Web Mercator projection, which was developed by Google to optimise serving of map data. It sub-divides the Earth's surface into square tiles of equal size by transforming the surface into a cylinder. Although accurately representing feature shapes at a local level, the drawback is that distances are highly distorted. The distortion increases with latitude, which is why Greenland appears to be of similar size to Africa, when in fact it has the land area of Saudi Arabia.\n",
    "\n",
    "To calculate distances we use the Albers equal-area conic projection, since it minimises distortion of distances at mid-latitudes and preserves true areas. Instead of transforming the surface into a cylinder, the Albers projection transforms it into a cone with two standard parallels (latitudes where the cone touches the surface).\n",
    "\n",
    "![Albers](https://www.icsm.gov.au/sites/default/files/inline-images/08-2896-12_0.jpg)\n",
    "![Aus](https://www.icsm.gov.au/sites/default/files/inline-images/conic-comp.jpg)\n",
    "\n",
    "To further increase the distance accuracy, we can customise the projection by selecting standard parallels directly North and South of an Isochrone over the package delivery origin. From the resulting projection, we are able to calculate the area of the Isochrone and estimate the average radius by assuming a circle centered around the origin with one quadrant removed to account for the Isochrone not extending into Port Phillip Bay."
   ]
  },
  {
   "cell_type": "code",
   "execution_count": null,
   "metadata": {
    "ExecuteTime": {
     "end_time": "2019-10-30T15:00:48.432136Z",
     "start_time": "2019-10-30T15:00:48.428589Z"
    }
   },
   "outputs": [],
   "source": [
    "def radius(geojson, origin):\n",
    "    \"\"\"Find the average radius (in kilometres) to the Isochrone contour.\n",
    "    \n",
    "    Args:\n",
    "      geojson: Isochrone.\n",
    "      origin: Latitude/longitude of origin.\n",
    "\n",
    "    Returns:\n",
    "      Average radius to the Isochrone contour.\n",
    "    \"\"\"\n",
    "    # https://stackoverflow.com/questions/4681737/how-to-calculate-the-area-of-a-polygon-on-the-earths-surface-using-python\n",
    "    coordinates = geojson['features'][0]['geometry']['coordinates'][0]\n",
    "    lon, lat = zip(*coordinates)\n",
    "\n",
    "    # Centre Albers Equal Area projection on Emporium\n",
    "    p = pyproj.Proj(f'+proj=aea +lat_1={min(lat)} +lat_2={max(lat)} ' +\n",
    "                    f'+lat_0={origin[0]} +lon_0={origin[1]}')\n",
    "    x, y = p(lon, lat)\n",
    "    shape = {'type': 'Polygon', 'coordinates': [zip(x, y)]}\n",
    "    area = geometry.shape(shape).area  # square meters\n",
    "\n",
    "    circle_area = area/3*4  # correction: assume Port Phillip Bay forms 1/4 of the circle\n",
    "    radius = math.sqrt(circle_area/math.pi)\n",
    "    return radius/1000  # in kilometeres"
   ]
  },
  {
   "cell_type": "code",
   "execution_count": null,
   "metadata": {
    "ExecuteTime": {
     "end_time": "2019-10-30T15:00:50.971034Z",
     "start_time": "2019-10-30T15:00:50.718042Z"
    }
   },
   "outputs": [],
   "source": [
    "df = pd.DataFrame([{'date': pd.to_datetime(date), 'radius': radius(geojson, emporium)}\n",
    "                   for date, geojson in bing_geojsons.items()])\n",
    "df.set_index('date', inplace=True)"
   ]
  },
  {
   "cell_type": "markdown",
   "metadata": {},
   "source": [
    "Statistics:"
   ]
  },
  {
   "cell_type": "code",
   "execution_count": null,
   "metadata": {
    "ExecuteTime": {
     "end_time": "2019-10-30T15:00:52.341420Z",
     "start_time": "2019-10-30T15:00:52.322620Z"
    }
   },
   "outputs": [],
   "source": [
    "widget = widgets.IntRangeSlider(value=(1000, 1900), # Emporium business hours\n",
    "                                min=100,\n",
    "                                max=2300,\n",
    "                                step=100,\n",
    "                                description='Hours: ',\n",
    "                                continuous_update=False)\n",
    "\n",
    "output1 = widgets.Output()\n",
    "output1.layout.height = '240px'\n",
    "\n",
    "def on_hours_description_change(change):\n",
    "    start, end = change.new\n",
    "    output1.clear_output()\n",
    "    \n",
    "    with output1:\n",
    "        df_subset = df.between_time(str(start), str(end))\n",
    "        print(df_subset.radius.describe())\n",
    "        print('')\n",
    "        print(f'Min radius occurs at: {df_subset.radius.idxmin()}')\n",
    "        print(f'Max radius occurs at: {df_subset.radius.idxmax()}')\n",
    "\n",
    "widget.observe(on_hours_description_change, names='value')\n",
    "display.display(widget, output1)"
   ]
  },
  {
   "cell_type": "code",
   "execution_count": null,
   "metadata": {
    "ExecuteTime": {
     "end_time": "2019-10-30T15:01:22.655863Z",
     "start_time": "2019-10-30T15:01:22.638599Z"
    },
    "scrolled": false
   },
   "outputs": [],
   "source": [
    "widget = widgets.IntRangeSlider(value=(1000, 1900), # Emporium business hours\n",
    "                                min=0,\n",
    "                                max=2300,\n",
    "                                step=100,\n",
    "                                description='Hours: ',\n",
    "                                continuous_update=False)\n",
    "\n",
    "output2 = widgets.Output()\n",
    "output2.layout.height = '400px'\n",
    "\n",
    "def on_hours_plot_change(change):\n",
    "    start, end = change.new\n",
    "    output2.clear_output()\n",
    "    \n",
    "    with output2:\n",
    "        df_subset = df.between_time(str(start), str(end))\n",
    "        fig, ax = plt.subplots(figsize=(16, 6))\n",
    "        ax = sns.lineplot(ax=ax, x=df_subset.index, y='radius', data=df_subset)\n",
    "        ax.set_title('Radius vs. Date/Time', fontsize=14)\n",
    "        ax.set_xlabel('Date',fontsize=14)\n",
    "        ax.set_ylabel('Radius (km)', fontsize=14)\n",
    "        plt.show()\n",
    "\n",
    "widget.observe(on_hours_plot_change, names='value')\n",
    "display.display(widget, output2)"
   ]
  },
  {
   "cell_type": "code",
   "execution_count": null,
   "metadata": {
    "ExecuteTime": {
     "end_time": "2019-10-30T15:02:13.393978Z",
     "start_time": "2019-10-30T15:02:13.381412Z"
    }
   },
   "outputs": [],
   "source": [
    "widget = widgets.IntRangeSlider(value=(1000, 1900), # Emporium business hours\n",
    "                                min=0,\n",
    "                                max=2300,\n",
    "                                step=100,\n",
    "                                description='Hours: ',\n",
    "                                continuous_update=False)\n",
    "\n",
    "output3 = widgets.Output()\n",
    "output3.layout.height = '400px'\n",
    "\n",
    "def on_hours_distribution_change(change):\n",
    "    start, end = change.new\n",
    "    output3.clear_output()\n",
    "    \n",
    "    with output3:\n",
    "        df_subset = df.between_time(str(start), str(end))\n",
    "        fig, ax = plt.subplots(figsize=(16, 6))\n",
    "        ax.set(xlim=(0, 50), ylim=(0, 0.5))\n",
    "        ax = sns.distplot(df_subset)\n",
    "        ax.set_title('Radius Distribution', fontsize=14)\n",
    "        ax.set_xlabel('Radius (km)',fontsize=14)\n",
    "        plt.show()\n",
    "\n",
    "widget.observe(on_hours_distribution_change, names='value')\n",
    "display.display(widget, output3)"
   ]
  },
  {
   "cell_type": "code",
   "execution_count": null,
   "metadata": {
    "ExecuteTime": {
     "end_time": "2019-10-30T16:06:32.148612Z",
     "start_time": "2019-10-30T16:06:32.142792Z"
    }
   },
   "outputs": [],
   "source": [
    "# df_hours = df.radius.groupby(df.radius.index.hour).mean()\n",
    "# ax = sns.barplot(df_hours.index, df_hours.values)"
   ]
  },
  {
   "cell_type": "markdown",
   "metadata": {},
   "source": [
    "Note: it is interesting to see that the predictive traffic data used by Bing is the same when shifted by 7 days.\n",
    "\n",
    "This is because Bing, like the other data providers, doesn't provide discrete traffic data for each day that has past. Instead, for any given time and day it provides an average speed of travel (from crowd sourced traffic data) for each section of the route, combined with known incidents. There is no transparency regarding how much historical data is used, or how much skewing is applied to more recent data."
   ]
  },
  {
   "cell_type": "code",
   "execution_count": null,
   "metadata": {
    "ExecuteTime": {
     "end_time": "2019-10-30T09:23:59.085970Z",
     "start_time": "2019-10-30T09:23:59.074397Z"
    }
   },
   "outputs": [],
   "source": [
    "display.display(df[df.index >= '2019-10-01 00:00:00'].head())\n",
    "display.display(df[df.index >= '2019-10-08 00:00:00'].head())"
   ]
  },
  {
   "cell_type": "markdown",
   "metadata": {
    "heading_collapsed": true
   },
   "source": [
    "## Bing vs. Mapbox Isochrones"
   ]
  },
  {
   "cell_type": "markdown",
   "metadata": {
    "hidden": true
   },
   "source": [
    "- Compare Bing and Mapbox Isochrones.\n",
    "\n",
    "\n",
    "- Note: departure time and route restrictions and not applied since Mapbox doesn't have these options."
   ]
  },
  {
   "cell_type": "code",
   "execution_count": null,
   "metadata": {
    "ExecuteTime": {
     "end_time": "2019-10-30T15:36:11.964011Z",
     "start_time": "2019-10-30T15:36:03.109767Z"
    },
    "hidden": true
   },
   "outputs": [],
   "source": [
    "address_box_widget = widgets.Text(description='Address: ',\n",
    "                                  continuous_update=False,\n",
    "                                  layout={'width': '95%', 'margin': '10px 0 0 0'})\n",
    "                                  \n",
    "bing_widget = widgets.ToggleButton(description='Bing', button_style='')\n",
    "mapbox_widget = widgets.ToggleButton(description='Mapbox', button_style='')\n",
    "\n",
    "output4 = widgets.Output()\n",
    "output4.layout.height = '816px'\n",
    "\n",
    "origin = emporium\n",
    "geojsons_dict = {'bing': bing_isochrone(emporium, route_restrictions=False),\n",
    "                 'mapbox': mapbox_isochrone(emporium)}\n",
    "layers = generate_layers(origin, 'Emporium', geojsons_dict)\n",
    "\n",
    "def on_api_change(bing, mapbox):\n",
    "    output4.clear_output()\n",
    "    \n",
    "    global layers\n",
    "    global origin\n",
    "\n",
    "    with output4:\n",
    "        melbourne_map = gmaps.figure(layout=layout, center=origin, zoom_level=9)\n",
    "        melbourne_map.add_layer(layers['origin'])\n",
    "        \n",
    "        if bing:\n",
    "            melbourne_map.add_layer(layers['bing'])\n",
    "            \n",
    "        if mapbox:\n",
    "            melbourne_map.add_layer(layers['mapbox'])\n",
    "\n",
    "        display.display(melbourne_map)\n",
    "\n",
    "def on_bing_toggle(change):\n",
    "    on_api_change(change.new, mapbox_widget.value)\n",
    "    \n",
    "def on_mapbox_toggle(change):\n",
    "    on_api_change(bing_widget.value, change.new)\n",
    "\n",
    "def on_address_submit(change):\n",
    "    global layers\n",
    "    global origin\n",
    "\n",
    "    address = change.new\n",
    "    origin = geocode_address(address)\n",
    "    geojsons_dict = {'bing': bing_isochrone(origin, route_restrictions=False),\n",
    "                     'mapbox': mapbox_isochrone(origin)}\n",
    "    layers = generate_layers(origin, address, geojsons_dict)\n",
    "    on_api_change(bing_widget.value, mapbox_widget.value)     \n",
    "    \n",
    "bing_widget.observe(on_bing_toggle, names='value')\n",
    "mapbox_widget.observe(on_mapbox_toggle, names='value')\n",
    "address_box_widget.observe(on_address_submit, names='value')\n",
    "\n",
    "container = widgets.VBox([bing_widget, mapbox_widget, address_box_widget])\n",
    "\n",
    "display.display(container)\n",
    "display.display(output4)"
   ]
  },
  {
   "cell_type": "markdown",
   "metadata": {
    "heading_collapsed": true
   },
   "source": [
    "## Bing Isochrones with/without Highways"
   ]
  },
  {
   "cell_type": "markdown",
   "metadata": {
    "hidden": true
   },
   "source": [
    "- Compare Bing Isochrones with/without highways."
   ]
  },
  {
   "cell_type": "code",
   "execution_count": null,
   "metadata": {
    "ExecuteTime": {
     "end_time": "2019-10-30T15:42:13.595427Z",
     "start_time": "2019-10-30T15:42:09.913394Z"
    },
    "hidden": true,
    "scrolled": false
   },
   "outputs": [],
   "source": [
    "address_box_widget = widgets.Text(description='Address: ', \n",
    "                                  continuous_update=False,\n",
    "                                  layout={'width': '95%', 'margin': '10px 0 0 0'})\n",
    "                                  \n",
    "bing_highway_widget = widgets.ToggleButton(description='Bing (Highway)', button_style='')\n",
    "bing_no_highway_widget = widgets.ToggleButton(description='Bing (No Highway)', button_style='')\n",
    "\n",
    "output7 = widgets.Output()\n",
    "output7.layout.height = '816px'\n",
    "\n",
    "origin = emporium\n",
    "geojsons_dict = {'highway': bing_isochrone(origin, route_restrictions=False),\n",
    "                 'no_highway': bing_isochrone(origin, route_restrictions=True)}\n",
    "layers = generate_layers(origin, 'Emporium', geojsons_dict)\n",
    "\n",
    "def on_highway_change(highway, no_highway):\n",
    "    output7.clear_output()\n",
    "    \n",
    "    global layers\n",
    "    global origin\n",
    "\n",
    "    with output7:\n",
    "        melbourne_map = gmaps.figure(layout=layout, center=origin, zoom_level=9)\n",
    "        melbourne_map.add_layer(layers['origin'])\n",
    "        \n",
    "        if highway:\n",
    "            melbourne_map.add_layer(layers['highway'])\n",
    "            \n",
    "        if no_highway:\n",
    "            melbourne_map.add_layer(layers['no_highway'])\n",
    "\n",
    "        display.display(melbourne_map)\n",
    "\n",
    "def on_highway_toggle(change):\n",
    "    on_highway_change(change.new, bing_no_highway_widget.value)\n",
    "    \n",
    "def on_no_highway_toggle(change):\n",
    "    on_highway_change(bing_highway_widget.value, change.new)\n",
    "\n",
    "def on_address_submit(change):\n",
    "    global layers\n",
    "    global origin\n",
    "\n",
    "    address = change.new\n",
    "    origin = geocode_address(address)\n",
    "    geojsons_dict = {'highway': bing_isochrone(origin, route_restrictions=False),\n",
    "                     'no_highway': bing_isochrone(origin, route_restrictions=True)}\n",
    "    layers = generate_layers(origin, address, geojsons_dict)\n",
    "    on_highway_change(bing_highway_widget.value, bing_no_highway_widget.value)     \n",
    "    \n",
    "bing_highway_widget.observe(on_highway_toggle, names='value')\n",
    "bing_no_highway_widget.observe(on_no_highway_toggle, names='value')\n",
    "address_box_widget.observe(on_address_submit, names='value')\n",
    "\n",
    "container = widgets.VBox([bing_highway_widget, bing_no_highway_widget, address_box_widget])\n",
    "\n",
    "display.display(container)\n",
    "display.display(output7)"
   ]
  },
  {
   "cell_type": "markdown",
   "metadata": {
    "heading_collapsed": true
   },
   "source": [
    "## Bing Extrema Isochrones"
   ]
  },
  {
   "cell_type": "markdown",
   "metadata": {
    "hidden": true
   },
   "source": [
    "- Compare Bing Isochrones for minimum and maximum Isochrones (`2019-10-03 09:00` vs `2019-10-05 20:00:00`):"
   ]
  },
  {
   "cell_type": "code",
   "execution_count": null,
   "metadata": {
    "ExecuteTime": {
     "end_time": "2019-10-30T15:42:53.111963Z",
     "start_time": "2019-10-30T15:42:53.064276Z"
    },
    "hidden": true
   },
   "outputs": [],
   "source": [
    "emporium_marker = gmaps.Marker((emporium_latitude, emporium_longitude),\n",
    "                               info_box_content='Emporium')\n",
    "emporium_marker_layer = gmaps.drawing_layer(features=[emporium_marker])\n",
    "\n",
    "min_isochrone = gmaps.geojson_layer(bing_geojsons['2019-10-07 12:00:00'],\n",
    "                                    fill_color='#000000',\n",
    "                                    stroke_color='#ff0000',\n",
    "                                    fill_opacity=0.15)\n",
    "\n",
    "max_isochrone = gmaps.geojson_layer(bing_geojsons['2019-10-05 15:00:00'],\n",
    "                                    fill_color='#000000',\n",
    "                                    stroke_color='#ff0000',\n",
    "                                    fill_opacity=0.15)\n",
    "            \n",
    "layout = {'width': '800px',\n",
    "          'height': '800px',\n",
    "          'border': '1px solid black',\n",
    "          'padding': '1px'}\n",
    "\n",
    "min_widget = widgets.ToggleButton(description='Minimum', button_style='')\n",
    "max_widget = widgets.ToggleButton(description='Maximum', button_style='')\n",
    "\n",
    "output5 = widgets.Output()\n",
    "output5.layout.height = '816px'\n",
    "\n",
    "def on_extreme_change(minimum, maximum):\n",
    "    output5.clear_output()\n",
    "\n",
    "    with output5:\n",
    "        melbourne_map = gmaps.figure(layout=layout, center=emporium, zoom_level=10)\n",
    "        melbourne_map.add_layer(emporium_marker_layer)\n",
    "        \n",
    "        if minimum:\n",
    "            melbourne_map.add_layer(min_isochrone)\n",
    "            \n",
    "        if maximum:\n",
    "            melbourne_map.add_layer(max_isochrone)\n",
    "\n",
    "        display.display(melbourne_map)\n",
    "\n",
    "def on_minimum_toggle(change):\n",
    "    on_extreme_change(change.new, max_widget.value)\n",
    "    \n",
    "def on_maximum_toggle(change):\n",
    "    on_extreme_change(min_widget.value, change.new)\n",
    "\n",
    "min_widget.observe(on_minimum_toggle, names='value')\n",
    "max_widget.observe(on_maximum_toggle, names='value')\n",
    "display.display(min_widget, max_widget)\n",
    "display.display(output5)"
   ]
  },
  {
   "cell_type": "markdown",
   "metadata": {
    "heading_collapsed": true
   },
   "source": [
    "## Bing Isochrones with Travel Time Adjustment"
   ]
  },
  {
   "cell_type": "code",
   "execution_count": null,
   "metadata": {
    "ExecuteTime": {
     "end_time": "2019-10-30T17:18:40.479449Z",
     "start_time": "2019-10-30T17:18:40.462257Z"
    },
    "hidden": true
   },
   "outputs": [],
   "source": [
    "emporium_marker = gmaps.Marker((emporium_latitude, emporium_longitude),\n",
    "                               info_box_content='Emporium')\n",
    "emporium_marker_layer = gmaps.drawing_layer(features=[emporium_marker])\n",
    "\n",
    "travel_time_widget = widgets.IntSlider(value=60,\n",
    "                                       min=0,\n",
    "                                       max=120,\n",
    "                                       step=1,\n",
    "                                       description='Travel Time:',\n",
    "                                       continuous_update=False)\n",
    "\n",
    "output8 = widgets.Output()\n",
    "output8.layout.height = '816px'\n",
    "\n",
    "def on_travel_time_change(change):\n",
    "    output8.clear_output()\n",
    "\n",
    "    with output8:\n",
    "        melbourne_map = gmaps.figure(layout=layout, center=emporium, zoom_level=10)\n",
    "        melbourne_map.add_layer(emporium_marker_layer)\n",
    "        \n",
    "        geojson = bing_isochrone(emporium,\n",
    "                                 departure_time=pd.to_datetime('2019-10-07 12:00:00').to_pydatetime().timestamp(),\n",
    "                                 travel_time=change.new)\n",
    "        \n",
    "        isochrone_layer = gmaps.geojson_layer(geojson,\n",
    "                                              fill_color='#000000',\n",
    "                                              stroke_color='#ff0000',\n",
    "                                              fill_opacity=0.15)\n",
    "            \n",
    "            \n",
    "        melbourne_map.add_layer(isochrone_layer)\n",
    "        display.display(melbourne_map)\n",
    "\n",
    "travel_time_widget.observe(on_travel_time_change, names='value')\n",
    "display.display(travel_time_widget, output8)"
   ]
  },
  {
   "cell_type": "markdown",
   "metadata": {},
   "source": [
    "## Conclusion"
   ]
  },
  {
   "cell_type": "markdown",
   "metadata": {},
   "source": [
    "### Overview"
   ]
  },
  {
   "cell_type": "markdown",
   "metadata": {
    "ExecuteTime": {
     "end_time": "2019-10-30T09:59:15.651512Z",
     "start_time": "2019-10-30T09:59:15.640207Z"
    }
   },
   "source": [
    "- We assessed the following Mapping APIs:\n",
    "    - Google Maps\n",
    "    - Microsoft Bing\n",
    "    - Mapbox\n",
    "    - TomTom\n",
    "    - Here Maps\n",
    "\n",
    "\n",
    "- Bing Maps was overall the most suitable for this part of the study, as it included:\n",
    "    - Isochrone API;\n",
    "    - parameter to avoid highways and ferries; and\n",
    "    - parameter for departure time that uses historical traffic data to predict trip duration\n",
    "    \n",
    "    \n",
    "- When considering traffic data exclusively, however, Google Maps API has the most comprehensive data. This is with regard to both road network coverage as well as quantity of crowd-sourced data, due to it's dominant market share.\n",
    "Unfortunately they do not provide an isochrone API, which made it unsuitable for this part of the study. However it will be used for the simulation in the next part.\n",
    "\n",
    "\n",
    "- All of the Mapping APIs shared a significant drawback: none of the standard travel modes (e.g. car, bicycle) can accurately model the traffic speed and routes taken by an electric scooter.\n",
    "    - electric scooters can weave through traffic (deviating from the car model)\n",
    "    - electric scooters are unable to use cycle paths (deviating from the bicycle model)\n",
    "\n",
    "\n",
    "- The Kymco scooter is unsuitable for highways since it has a low top speed of 45 km/h, so turning on the parameter to avoid highways is necessary.\n",
    "\n",
    "\n",
    "- The estimates in the next section are based on a car driving in traffic which may differ from electric scooters in the following ways:\n",
    "    - cars are capable of a slightly higher top speed on uncongested city roads\n",
    "    - electric scooters can weave through traffic"
   ]
  },
  {
   "cell_type": "markdown",
   "metadata": {},
   "source": [
    "### Recommendations and further work"
   ]
  },
  {
   "cell_type": "markdown",
   "metadata": {},
   "source": [
    "1. The available data suggests that the operational radius should be limited to:\n",
    "\n",
    "    - 31.9 km (best case)\n",
    "    - 29.1 km (average case)\n",
    "    - 20.1 km (worst case)\n",
    "\n",
    "    These limits are based on:\n",
    "    - Isochrone travel times of 1-hour during Emporium business hours (10am - 7pm)\n",
    "    - Taking into account average traffic levels\n",
    "    - Zero downtime for package pickup and dropoff and electric scooter charging\n",
    "\n",
    "2. Using a highway-capable scooter would greatly increase the operational area\n",
    "\n",
    "3. As previously discussed, these numbers should be taken as rough estimates. Acheiving a more robust model will require implementation of an application-specific data gathering regime. Specifically running randomised trial routes using the intended vehicle at various times throughout the operational period.\n",
    "\n",
    "4. A system based on an offline open source routing engine (e.g. Graphhopper) will allow us to build a custom model for how an electric scooter interacts with traffic and what routes it can take. \n",
    "By taking control of the cod base, data from the test regime can be combined with historical traffic data to calculate trip duration predictions. This can be continuously refined with operational data to achieve increasing levels of accuracy.\n",
    "This is in contrast to relying solely on web APIs which are 'black boxes' that can only partially model the use case."
   ]
  },
  {
   "cell_type": "markdown",
   "metadata": {},
   "source": [
    "# Task 2: Simulated Deliveries"
   ]
  },
  {
   "cell_type": "markdown",
   "metadata": {},
   "source": [
    "- Determine the number of packages that can be delivered by one driver in a typical day.\n",
    "\n",
    "\n",
    "- Simulate a sequence of deliveries with one driver making multiple deliveries throughout the day for a given delivery radius.\n",
    "\n",
    "\n",
    "- Compute best case, average case and worst case scenarios."
   ]
  },
  {
   "cell_type": "markdown",
   "metadata": {
    "ExecuteTime": {
     "end_time": "2019-10-30T14:55:58.715524Z",
     "start_time": "2019-10-30T14:55:58.713788Z"
    }
   },
   "source": [
    "## Step 1: Simulate Delivery Locations"
   ]
  },
  {
   "cell_type": "markdown",
   "metadata": {},
   "source": [
    "The following function generates random delivery points within a given Isochrone, allowing us to compare different times of day or days of week:"
   ]
  },
  {
   "cell_type": "code",
   "execution_count": null,
   "metadata": {
    "ExecuteTime": {
     "end_time": "2019-10-30T16:07:45.559969Z",
     "start_time": "2019-10-30T16:07:45.555062Z"
    }
   },
   "outputs": [],
   "source": [
    "def generate_random_coordinates(n, polygon):\n",
    "    \"\"\"Generates point coordinates uniformly randomly inside a given polygon.\n",
    "\n",
    "    Args:\n",
    "      n: The number of coordinates to generate.\n",
    "      polygon: The polygon (shapely.geometry.polygon.Polygon) that defines the\n",
    "               boundary of the area within which coordinates will be generated.\n",
    "\n",
    "    Returns:\n",
    "      List of random latitude/longitude coordinate as tuples.\n",
    "    \"\"\"\n",
    "    x_min, y_min, x_max, y_max = polygon.bounds\n",
    "\n",
    "    \n",
    "    points = []\n",
    "    while len(points) < n:\n",
    "        points.extend([geometry.Point(random.uniform(x_min, x_max),\n",
    "                                      random.uniform(y_min, y_max))\n",
    "                       for i in range(n)])\n",
    "    \n",
    "        # Filter points.\n",
    "        points = [point for point in points if polygon.contains(point)]\n",
    "    \n",
    "    coordinates = [(point.y, point.x) for point in points][:n]\n",
    "    assert len(coordinates) == n\n",
    "    return coordinates"
   ]
  },
  {
   "cell_type": "code",
   "execution_count": null,
   "metadata": {
    "ExecuteTime": {
     "end_time": "2019-10-30T17:50:58.914584Z",
     "start_time": "2019-10-30T17:50:58.721238Z"
    },
    "scrolled": false
   },
   "outputs": [],
   "source": [
    "polygon = geometry.shape(bing_geojsons['2019-10-03 09:00:00']['features'][0]['geometry'])\n",
    "\n",
    "random_coordinates = generate_random_coordinates(100, polygon)\n",
    "\n",
    "emporium_marker = gmaps.Marker((emporium_latitude, emporium_longitude),\n",
    "                               info_box_content='Emporium')\n",
    "emporium_marker_layer = gmaps.drawing_layer(features=[emporium_marker])\n",
    "\n",
    "isochrone_layer = gmaps.geojson_layer(bing_geojsons['2019-10-03 09:00:00'],\n",
    "                                      fill_color='#000000',\n",
    "                                      stroke_color='#ff0000',\n",
    "                                      fill_opacity=0.15)\n",
    "\n",
    "coordinate_widget = widgets.IntSlider(value=10,\n",
    "                                      min=0,\n",
    "                                      max=100,\n",
    "                                      step=1,\n",
    "                                      description='Coordinates:',\n",
    "                                      continuous_update=False)\n",
    "\n",
    "output6 = widgets.Output()\n",
    "output6.layout.height = '816px'\n",
    "\n",
    "def on_coordinates_change(change):\n",
    "    output6.clear_output()\n",
    "    n = change.new\n",
    "    coordinates_layer = gmaps.symbol_layer(random_coordinates[:n],\n",
    "                                           fill_color='#ff0000',\n",
    "                                           stroke_color='#ff0000',\n",
    "                                           scale=2)\n",
    "\n",
    "    with output6:\n",
    "        melbourne_map = gmaps.figure(layout=layout, center=emporium, zoom_level=10)\n",
    "        melbourne_map.add_layer(emporium_marker_layer)\n",
    "        melbourne_map.add_layer(isochrone_layer)\n",
    "        melbourne_map.add_layer(coordinates_layer)\n",
    "        display.display(melbourne_map)\n",
    "\n",
    "coordinate_widget.observe(on_coordinates_change, names='value')\n",
    "display.display(coordinate_widget, output6)"
   ]
  },
  {
   "cell_type": "markdown",
   "metadata": {},
   "source": [
    "Function to calculate trip durations:"
   ]
  },
  {
   "cell_type": "code",
   "execution_count": null,
   "metadata": {
    "ExecuteTime": {
     "end_time": "2019-10-30T17:57:39.407788Z",
     "start_time": "2019-10-30T17:57:39.401891Z"
    }
   },
   "outputs": [],
   "source": [
    "def google_duration(origin, destination, departure_time, testing=True,\n",
    "                    traffic=False, mode='driving'):\n",
    "    \"\"\"Find the length of time required to travel a route.\n",
    "    \n",
    "    Note: each live request costs US$0.005 (without traffic) and US$0.01 (with\n",
    "    traffic).\n",
    "\n",
    "    Args:\n",
    "      origin: Latitude/longitude of origin.\n",
    "      destination: Latitude/longitude of destination.\n",
    "      departure_time: Desired time of departure in seconds (must be either\n",
    "                      current time or time in future).\n",
    "      testing: Use a randomly generated duration instead of sending a live\n",
    "               request.\n",
    "      traffic: Use traffic information in the request.\n",
    "      mode: Travel mode (driving, walking, bicycling or transit).\n",
    "\n",
    "    Returns:\n",
    "      Duration in seconds.\n",
    "    \"\"\"\n",
    "    if testing:\n",
    "        return random.randrange(600, 3600)\n",
    "    else:\n",
    "        print('GOOGLE LIVE REQUEST')\n",
    "        api_endpoint = 'https://maps.googleapis.com/maps/api/distancematrix/json'\n",
    "        payload = {'origins': f'{origin[0]},{origin[1]}',\n",
    "                   'destinations': f'{destination[0]},{destination[1]}',\n",
    "                   'mode': mode,\n",
    "                   'avoid': 'highways',\n",
    "                   'key': GOOGLE_MAPS_API_KEY}\n",
    "\n",
    "        if traffic:\n",
    "            payload['departure_time'] = int(departure_time),  \n",
    "            key = 'duration_in_traffic'\n",
    "        else:\n",
    "            key = 'duration'\n",
    "\n",
    "        response = requests.get(api_endpoint, params=payload)\n",
    "        return response.json()['rows'][0]['elements'][0][key]['value']"
   ]
  },
  {
   "cell_type": "markdown",
   "metadata": {},
   "source": [
    "## Step 2: Run Simulation"
   ]
  },
  {
   "cell_type": "markdown",
   "metadata": {},
   "source": [
    "- To implement the simulation, we create an environment object that represents a working day. We use the delivery locations and trip durations between these locations to simulate a rider making consecutive package deliveries. \n",
    "\n",
    "\n",
    "- The driver will travel back and forth between the origin and different delivery locations until the end of the business day. We tally the number of successfully completed trips. \n",
    "\n",
    "\n",
    "- In order to obtain a representative distribution of the number of deliveries per day, we simulate multiple iterations with randomly generated delivery locations for each iteration."
   ]
  },
  {
   "cell_type": "code",
   "execution_count": null,
   "metadata": {
    "ExecuteTime": {
     "end_time": "2019-10-30T18:03:39.809689Z",
     "start_time": "2019-10-30T18:03:39.804981Z"
    }
   },
   "outputs": [],
   "source": [
    "def scooter(env, polygon, turnaround_duration=120, verbose=False, testing=True):\n",
    "    \"\"\"Simulates trips that a single scooter can complete in a given\n",
    "    timeframe (specified by env) for a set of randomly generated client\n",
    "    locations within the provided isochrone.\n",
    "\n",
    "    Args:\n",
    "      env: Environment object used to simulate date time.\n",
    "      polygon: The polygon (shapely.geometry.polygon.Polygon) that defines the\n",
    "          boundary of the area within which client coordinates will be\n",
    "          generated.\n",
    "      turnaround_time: Estimated scooter turnaround time to be added to\n",
    "          outbound and return durations.\n",
    "    \"\"\"\n",
    "    while True:\n",
    "        customer = generate_random_coordinates(1, polygon)[0]\n",
    "        \n",
    "        # Outbound trip\n",
    "        start_time = datetime.datetime.fromtimestamp(env.now)    \n",
    "        outbound_duration = google_duration(emporium, customer, env.now, testing=testing, traffic=False)\n",
    "        yield env.timeout(outbound_duration + turnaround_duration)\n",
    "\n",
    "        if verbose:\n",
    "            print(f'Start outbound trip from {emporium} to {customer} at {start_time}')\n",
    "\n",
    "        # Inbound trip\n",
    "        start_time = datetime.datetime.fromtimestamp(env.now)\n",
    "        inbound_duration = google_duration(customer, emporium, env.now, testing=testing, traffic=False)\n",
    "        yield env.timeout(inbound_duration + turnaround_duration)\n",
    "        \n",
    "        if verbose:\n",
    "            print(f'Start inbound trip from {customer} to {emporium} at {start_time}')\n",
    "\n",
    "        global trips\n",
    "        trips += 1"
   ]
  },
  {
   "cell_type": "code",
   "execution_count": null,
   "metadata": {
    "ExecuteTime": {
     "end_time": "2019-10-30T17:58:47.991268Z",
     "start_time": "2019-10-30T17:58:47.984150Z"
    }
   },
   "outputs": [],
   "source": [
    "def simulate(date, polygon, start_hour=10, end_hour=19):\n",
    "    start = date.replace(hour=start_hour).timestamp()\n",
    "    end = date.replace(hour=end_hour).timestamp()\n",
    "    \n",
    "    global trips\n",
    "    trips = 0\n",
    "    \n",
    "    env = simpy.Environment(initial_time=start)\n",
    "    env.process(scooter(env, polygon, trips))\n",
    "    env.run(until=end)\n",
    "    \n",
    "    return trips"
   ]
  },
  {
   "cell_type": "code",
   "execution_count": null,
   "metadata": {
    "ExecuteTime": {
     "end_time": "2019-10-30T17:59:16.593687Z",
     "start_time": "2019-10-30T17:58:49.117214Z"
    }
   },
   "outputs": [],
   "source": [
    "iterations = 10\n",
    "polygon = geometry.shape(bing_geojsons['2019-10-03 09:00:00']['features'][0]['geometry'])\n",
    "dates = pd.date_range(start='2019-10-01', end='2019-10-01')\n",
    "\n",
    "trip_simulation = {str(date): [simulate(date, polygon)\n",
    "                               for i in range(iterations)]\n",
    "                   for date in dates}\n",
    "\n",
    "trips = [trip for trips in trip_simulation.values() for trip in trips]\n",
    "\n",
    "print(f'Results from a {iterations}-iteration simulation:')\n",
    "print(f'Best case: {max(trips)} trips')\n",
    "print(f'Average case: {sum(trips)/len(trips):.3} trips')\n",
    "print(f'Worst case: {min(trips)} trips')"
   ]
  },
  {
   "cell_type": "markdown",
   "metadata": {},
   "source": [
    "Results from a 10-iteration simulation:\n",
    "- Best case: 9 trips\n",
    "- Average case: 5.9 trips\n",
    "- Worst case: 5 trips"
   ]
  },
  {
   "cell_type": "markdown",
   "metadata": {},
   "source": [
    "## Conclusion"
   ]
  },
  {
   "cell_type": "markdown",
   "metadata": {},
   "source": [
    "### Overview"
   ]
  },
  {
   "cell_type": "markdown",
   "metadata": {},
   "source": [
    "TODO\n",
    "\n",
    "- Decreasing Isochrone radius also decreases demand since the scooters now reach fewer people.\n",
    "\n",
    "- Assuming unlimited demand, it is always better to use a smaller radius (quicker round-trip time)"
   ]
  },
  {
   "cell_type": "markdown",
   "metadata": {},
   "source": [
    "### Recommendations"
   ]
  },
  {
   "cell_type": "markdown",
   "metadata": {},
   "source": [
    "TODO\n",
    "\n",
    "- Room for improvement using dispatch algorithm like trip upgrade\n",
    "\n",
    "- Assess how demand changes with radius (how?)"
   ]
  },
  {
   "cell_type": "markdown",
   "metadata": {
    "slideshow": {
     "slide_type": "slide"
    }
   },
   "source": [
    "# Presentation"
   ]
  },
  {
   "cell_type": "markdown",
   "metadata": {},
   "source": [
    "Test"
   ]
  },
  {
   "cell_type": "markdown",
   "metadata": {},
   "source": [
    "# Appendix"
   ]
  },
  {
   "cell_type": "markdown",
   "metadata": {},
   "source": [
    "## How to Create API Keys"
   ]
  },
  {
   "cell_type": "markdown",
   "metadata": {},
   "source": [
    "### Bing"
   ]
  },
  {
   "cell_type": "markdown",
   "metadata": {},
   "source": [
    "- Go to the Bing Maps Dev Centre (https://www.bingmapsportal.com)\n",
    "- Click 'Sign in' \n",
    "- If you have a Bing Maps account, sign in with the Microsoft account that you used to create the account or create a new one\n",
    "- Select My keys under My Account\n",
    "- Select the option to create a new key\n",
    "- For Application name, enter an easy to remember name\n",
    "- Leave  Application URL blank\n",
    "- For the Key type select 'Basic'\n",
    "- For the Application type select Dev/Test\n",
    "- Click the Create button\n",
    "- The new key displays in the list of available keys"
   ]
  },
  {
   "cell_type": "markdown",
   "metadata": {},
   "source": [
    "Run:"
   ]
  },
  {
   "cell_type": "code",
   "execution_count": null,
   "metadata": {},
   "outputs": [],
   "source": [
    "keyring.set_password('Microsoft', 'Bing Maps API', BING_MAPS_API_KEY)"
   ]
  },
  {
   "cell_type": "markdown",
   "metadata": {
    "heading_collapsed": true
   },
   "source": [
    "### Google"
   ]
  },
  {
   "cell_type": "markdown",
   "metadata": {
    "hidden": true
   },
   "source": [
    "- Create a Google Cloud Plaform account (https://cloud.google.com/)\n",
    "- Open the GCP Console (https://console.cloud.google.com/google/maps-apis/overview)\n",
    "- Click the project drop-down and select the Directions API\n",
    "- Click the menu button and select APIs & Services > Credentials\n",
    "- On the Credentials page, click Create credentials > API key\n",
    "- The API key created dialog displays your newly created API key\n",
    "- Click Close\n",
    "- The new API key is listed on the Credentials page under API keys"
   ]
  },
  {
   "cell_type": "markdown",
   "metadata": {
    "hidden": true
   },
   "source": [
    "Run:"
   ]
  },
  {
   "cell_type": "code",
   "execution_count": null,
   "metadata": {
    "hidden": true
   },
   "outputs": [],
   "source": [
    "keyring.set_password('Google', 'Maps Platform', GOOGLE_MAPS_API_KEY)"
   ]
  },
  {
   "cell_type": "markdown",
   "metadata": {},
   "source": [
    "### Mapbox"
   ]
  },
  {
   "cell_type": "markdown",
   "metadata": {},
   "source": [
    "- Create a Mapbox account (https://account.mapbox.com/auth/signup/)\n",
    "- On your account dashboard, click Create a Token (https://account.mapbox.com/access-tokens/)\n",
    "- Give the token an easy to remember name and leave everything else as default\n",
    "- Click Create token\n",
    "- On tokens page copy the public token"
   ]
  },
  {
   "cell_type": "markdown",
   "metadata": {},
   "source": [
    "Run:"
   ]
  },
  {
   "cell_type": "code",
   "execution_count": null,
   "metadata": {},
   "outputs": [],
   "source": [
    "keyring.set_password('Mapbox', 'Mapbox API', MAPBOX_MAPS_API_KEY)"
   ]
  },
  {
   "cell_type": "markdown",
   "metadata": {},
   "source": [
    "# Scratchpad"
   ]
  },
  {
   "cell_type": "code",
   "execution_count": null,
   "metadata": {
    "ExecuteTime": {
     "end_time": "2019-10-30T17:00:47.582857Z",
     "start_time": "2019-10-30T17:00:43.563128Z"
    }
   },
   "outputs": [],
   "source": [
    "dates = pd.date_range(start='2019-10-01 00:00:00', end='2019-10-02 00:00', freq='H')\n",
    "bing_geojsons1 = {str(date): bing_isochrone(emporium, date.timestamp()) for date in dates}\n",
    "bing_geojsons2 = {str(date): bing_isochrone(emporium, date.timestamp(), route_restrictions=False) for date in dates}"
   ]
  },
  {
   "cell_type": "code",
   "execution_count": null,
   "metadata": {
    "ExecuteTime": {
     "end_time": "2019-10-30T17:25:46.854110Z",
     "start_time": "2019-10-30T17:25:46.287211Z"
    }
   },
   "outputs": [],
   "source": [
    "df3 = pd.DataFrame([{'date': pd.to_datetime(date), 'radius': radius(geojson, emporium)}\n",
    "                   for date, geojson in bing_geojsons.items()])\n",
    "\n",
    "df4 = pd.DataFrame([{'date': pd.to_datetime(date), 'radius': radius(geojson, emporium)}\n",
    "                   for date, geojson in bing_geojsons_no_restrictions.items()])\n"
   ]
  },
  {
   "cell_type": "code",
   "execution_count": null,
   "metadata": {
    "ExecuteTime": {
     "end_time": "2019-10-30T17:25:52.411028Z",
     "start_time": "2019-10-30T17:25:52.404080Z"
    }
   },
   "outputs": [],
   "source": [
    "df3"
   ]
  },
  {
   "cell_type": "code",
   "execution_count": null,
   "metadata": {
    "ExecuteTime": {
     "end_time": "2019-10-30T17:25:56.424654Z",
     "start_time": "2019-10-30T17:25:56.414752Z"
    }
   },
   "outputs": [],
   "source": [
    "df4"
   ]
  },
  {
   "cell_type": "code",
   "execution_count": null,
   "metadata": {
    "ExecuteTime": {
     "end_time": "2019-10-30T17:01:40.715855Z",
     "start_time": "2019-10-30T17:01:40.673931Z"
    }
   },
   "outputs": [],
   "source": [
    "df2 = pd.DataFrame([{'date': pd.to_datetime(date), 'radius': radius(geojson, emporium)}\n",
    "                   for date, geojson in bing_geojsons2.items()])\n",
    "# df.set_index('date', inplace=True)"
   ]
  },
  {
   "cell_type": "code",
   "execution_count": null,
   "metadata": {
    "ExecuteTime": {
     "end_time": "2019-10-30T17:26:39.603940Z",
     "start_time": "2019-10-30T17:26:32.522610Z"
    }
   },
   "outputs": [],
   "source": [
    "# with restrictions\n",
    "fig, ax = plt.subplots(figsize=(16, 6))\n",
    "ax = sns.barplot(df3.date, df3.radius)\n",
    "plt.xticks(rotation=90)"
   ]
  },
  {
   "cell_type": "code",
   "execution_count": null,
   "metadata": {
    "ExecuteTime": {
     "end_time": "2019-10-30T17:26:54.035759Z",
     "start_time": "2019-10-30T17:26:46.833099Z"
    }
   },
   "outputs": [],
   "source": [
    "# without restrictions\n",
    "fig, ax = plt.subplots(figsize=(16, 6))\n",
    "ax = sns.barplot(df4.date, df4.radius)\n",
    "plt.xticks(rotation=90)"
   ]
  },
  {
   "cell_type": "code",
   "execution_count": null,
   "metadata": {},
   "outputs": [],
   "source": []
  }
 ],
 "metadata": {
  "kernelspec": {
   "display_name": "Python 3",
   "language": "python",
   "name": "python3"
  },
  "language_info": {
   "codemirror_mode": {
    "name": "ipython",
    "version": 3
   },
   "file_extension": ".py",
   "mimetype": "text/x-python",
   "name": "python",
   "nbconvert_exporter": "python",
   "pygments_lexer": "ipython3",
   "version": "3.7.4"
  },
  "varInspector": {
   "cols": {
    "lenName": 16,
    "lenType": 16,
    "lenVar": 40
   },
   "kernels_config": {
    "python": {
     "delete_cmd_postfix": "",
     "delete_cmd_prefix": "del ",
     "library": "var_list.py",
     "varRefreshCmd": "print(var_dic_list())"
    },
    "r": {
     "delete_cmd_postfix": ") ",
     "delete_cmd_prefix": "rm(",
     "library": "var_list.r",
     "varRefreshCmd": "cat(var_dic_list()) "
    }
   },
   "types_to_exclude": [
    "module",
    "function",
    "builtin_function_or_method",
    "instance",
    "_Feature"
   ],
   "window_display": false
  }
 },
 "nbformat": 4,
 "nbformat_minor": 2
}
