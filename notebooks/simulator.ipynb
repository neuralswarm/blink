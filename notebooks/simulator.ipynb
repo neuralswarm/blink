{
 "cells": [
  {
   "cell_type": "markdown",
   "metadata": {},
   "source": [
    "# Preamble"
   ]
  },
  {
   "cell_type": "code",
   "execution_count": 45,
   "metadata": {
    "ExecuteTime": {
     "end_time": "2019-10-24T15:32:16.429398Z",
     "start_time": "2019-10-24T15:32:16.375001Z"
    }
   },
   "outputs": [],
   "source": [
    "import numpy as np\n",
    "import pandas as pd\n",
    "\n",
    "import datetime\n",
    "import math\n",
    "import random\n",
    "import requests"
   ]
  },
  {
   "cell_type": "markdown",
   "metadata": {},
   "source": [
    "# Objectives"
   ]
  },
  {
   "cell_type": "markdown",
   "metadata": {},
   "source": [
    "Determine a suitable radius around specified locations (e.g. Emporium Melbourne) for time-constrained package delivery.\n",
    "\n",
    "Note: generate isochrone for 68%, 95%, 99.7% confidence that package will be delivered within 1-hour for different days and times.\n",
    "\n",
    "Measure average radius of isochrone?\n",
    "\n",
    "Map isochrone by going to the edge and then following perimeter around?"
   ]
  },
  {
   "cell_type": "markdown",
   "metadata": {},
   "source": [
    "# Scope of Work"
   ]
  },
  {
   "cell_type": "markdown",
   "metadata": {},
   "source": [
    "- Monte Carlo simulator to determine the distribution of package delivery times for points of different distances from the origin.\n",
    "- Support for aggregating traffic over different times and days so an accurate representation can be obtained.\n",
    "- Point-to-point ETAs should be retrieved using the Google Maps Routing API or any other suitable alternative.\n"
   ]
  },
  {
   "cell_type": "markdown",
   "metadata": {},
   "source": [
    "# Coordinates"
   ]
  },
  {
   "cell_type": "markdown",
   "metadata": {},
   "source": [
    "Latitude/longitude of Melbourne Emporium:"
   ]
  },
  {
   "cell_type": "code",
   "execution_count": 4,
   "metadata": {
    "ExecuteTime": {
     "end_time": "2019-10-24T14:47:09.918494Z",
     "start_time": "2019-10-24T14:47:09.913082Z"
    }
   },
   "outputs": [],
   "source": [
    "latitude = -37.8124448\n",
    "longitude = 144.9613661"
   ]
  },
  {
   "cell_type": "code",
   "execution_count": 24,
   "metadata": {
    "ExecuteTime": {
     "end_time": "2019-10-24T15:03:13.960012Z",
     "start_time": "2019-10-24T15:03:13.953011Z"
    }
   },
   "outputs": [],
   "source": [
    "def random_coordinate(latitude, longitude, r_degrees=1000):\n",
    "    \"\"\"Sample points uniformly randomly over the surface of a sphere:\n",
    "    https://gis.stackexchange.com/questions/25877/generating-random-locations-nearby\"\"\"\n",
    "    # Does the random coordinate have to be at a doorstep of a street? What if it's in the middle of a park?  \n",
    "    r_degrees = r_metres / 111300\n",
    "\n",
    "    u = random.uniform(0, 1)\n",
    "    v = random.uniform(0, 1) \n",
    "\n",
    "    w = r_degrees * math.sqrt(u)\n",
    "    t = 2 * math.pi * v\n",
    "    x = w * math.cos(t) \n",
    "    y = w * math.sin(t)\n",
    "    x_corrected = x / math.cos(y0)\n",
    "\n",
    "    return (x_corrected + x0), (y + y0)"
   ]
  },
  {
   "cell_type": "code",
   "execution_count": 39,
   "metadata": {
    "ExecuteTime": {
     "end_time": "2019-10-24T15:23:14.253274Z",
     "start_time": "2019-10-24T15:23:14.247382Z"
    }
   },
   "outputs": [],
   "source": [
    "def random_datetime(start, end):\n",
    "    \"\"\"Generate a random datetime between start and end\"\"\"\n",
    "    \"\"\"https://stackoverflow.com/questions/553303/generate-a-random-date-between-two-other-dates\"\"\"\n",
    "    # Do we samples at specific times or uniformly randomly between two datetimes?\n",
    "    timedelta_seconds = random.randint(0, int((end - start).total_seconds()))\n",
    "    return start + datetime.timedelta(seconds=timedelta_seconds)"
   ]
  },
  {
   "cell_type": "code",
   "execution_count": 44,
   "metadata": {
    "ExecuteTime": {
     "end_time": "2019-10-24T15:23:21.555779Z",
     "start_time": "2019-10-24T15:23:21.552237Z"
    }
   },
   "outputs": [
    {
     "name": "stdout",
     "output_type": "stream",
     "text": [
      "2019-01-04 15:22:57\n"
     ]
    }
   ],
   "source": [
    "start = pd.to_datetime('2019-01-01 00:00:00').to_pydatetime()\n",
    "end = pd.to_datetime('2019-01-08 00:00:00').to_pydatetime()\n",
    "\n",
    "print(random_datetime(start, end))"
   ]
  },
  {
   "cell_type": "code",
   "execution_count": 25,
   "metadata": {
    "ExecuteTime": {
     "end_time": "2019-10-24T15:03:14.336864Z",
     "start_time": "2019-10-24T15:03:14.334851Z"
    }
   },
   "outputs": [],
   "source": [
    "coordinates = [random_coordinate(latitude, longitude, 1000) for i in range(10)]"
   ]
  },
  {
   "cell_type": "markdown",
   "metadata": {},
   "source": [
    "# Google Maps Routing"
   ]
  },
  {
   "cell_type": "markdown",
   "metadata": {},
   "source": [
    "- https://developers.google.com/maps/billing/gmp-billing#distance-matrix-advanced\n",
    "- https://developers.google.com/maps/documentation/distance-matrix"
   ]
  },
  {
   "cell_type": "markdown",
   "metadata": {},
   "source": [
    "# Isochrone Map"
   ]
  },
  {
   "cell_type": "code",
   "execution_count": null,
   "metadata": {},
   "outputs": [],
   "source": []
  },
  {
   "cell_type": "markdown",
   "metadata": {},
   "source": [
    "# Tasks"
   ]
  },
  {
   "cell_type": "markdown",
   "metadata": {},
   "source": [
    "- https://docs.mapbox.com/api/#isochrone\n",
    "- https://app.route360.net/demo/#!/map?areaID=australia&travelTime=60&travelTimeRangeID=1&travelDistanceRangeID=0&travelType=bike&travelDistance=5000&edgeWeight=time&colorRangeID=0&intersection=union&transition=true&zoomAllTheTime=true&mapstyle=light&frameDuration=18000&rushHour=true&sources=-37.812487,144.963934\n",
    "- https://towardsdatascience.com/how-to-calculate-travel-time-for-any-location-in-the-world-56ce639511f (uses offline method)"
   ]
  },
  {
   "cell_type": "code",
   "execution_count": null,
   "metadata": {},
   "outputs": [],
   "source": []
  }
 ],
 "metadata": {
  "kernelspec": {
   "display_name": "Python 3",
   "language": "python",
   "name": "python3"
  },
  "language_info": {
   "codemirror_mode": {
    "name": "ipython",
    "version": 3
   },
   "file_extension": ".py",
   "mimetype": "text/x-python",
   "name": "python",
   "nbconvert_exporter": "python",
   "pygments_lexer": "ipython3",
   "version": "3.7.4"
  },
  "varInspector": {
   "cols": {
    "lenName": 16,
    "lenType": 16,
    "lenVar": 40
   },
   "kernels_config": {
    "python": {
     "delete_cmd_postfix": "",
     "delete_cmd_prefix": "del ",
     "library": "var_list.py",
     "varRefreshCmd": "print(var_dic_list())"
    },
    "r": {
     "delete_cmd_postfix": ") ",
     "delete_cmd_prefix": "rm(",
     "library": "var_list.r",
     "varRefreshCmd": "cat(var_dic_list()) "
    }
   },
   "types_to_exclude": [
    "module",
    "function",
    "builtin_function_or_method",
    "instance",
    "_Feature"
   ],
   "window_display": false
  }
 },
 "nbformat": 4,
 "nbformat_minor": 2
}
